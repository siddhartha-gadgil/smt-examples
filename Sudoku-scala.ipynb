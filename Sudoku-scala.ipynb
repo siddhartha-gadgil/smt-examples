{
 "cells": [
  {
   "cell_type": "code",
   "execution_count": 1,
   "metadata": {},
   "outputs": [
    {
     "data": {
      "text/plain": [
       "\u001b[32mimport \u001b[39m\u001b[36m$cp.$                     \u001b[39m"
      ]
     },
     "execution_count": 1,
     "metadata": {},
     "output_type": "execute_result"
    }
   ],
   "source": [
    "import $cp.`com.microsoft.z3.jar`"
   ]
  },
  {
   "cell_type": "code",
   "execution_count": 2,
   "metadata": {},
   "outputs": [
    {
     "data": {
      "text/plain": [
       "\u001b[32mimport \u001b[39m\u001b[36mcom.microsoft.z3._\n",
       "\u001b[39m\n",
       "\u001b[36mctx\u001b[39m: \u001b[32mContext\u001b[39m = com.microsoft.z3.Context@56dacb7b"
      ]
     },
     "execution_count": 2,
     "metadata": {},
     "output_type": "execute_result"
    }
   ],
   "source": [
    "import com.microsoft.z3._\n",
    "val ctx = new Context()"
   ]
  },
  {
   "cell_type": "code",
   "execution_count": 3,
   "metadata": {},
   "outputs": [
    {
     "data": {
      "text/plain": [
       "\u001b[36mX\u001b[39m: \u001b[32mArray\u001b[39m[\u001b[32mArray\u001b[39m[\u001b[32mExpr\u001b[39m[\u001b[32mIntSort\u001b[39m]]] = \u001b[33mArray\u001b[39m(\n",
       "  \u001b[33mArray\u001b[39m(x_1_1, x_1_2, x_1_3, x_1_4, x_1_5, x_1_6, x_1_7, x_1_8, x_1_9),\n",
       "  \u001b[33mArray\u001b[39m(x_2_1, x_2_2, x_2_3, x_2_4, x_2_5, x_2_6, x_2_7, x_2_8, x_2_9),\n",
       "  \u001b[33mArray\u001b[39m(x_3_1, x_3_2, x_3_3, x_3_4, x_3_5, x_3_6, x_3_7, x_3_8, x_3_9),\n",
       "  \u001b[33mArray\u001b[39m(x_4_1, x_4_2, x_4_3, x_4_4, x_4_5, x_4_6, x_4_7, x_4_8, x_4_9),\n",
       "  \u001b[33mArray\u001b[39m(x_5_1, x_5_2, x_5_3, x_5_4, x_5_5, x_5_6, x_5_7, x_5_8, x_5_9),\n",
       "  \u001b[33mArray\u001b[39m(x_6_1, x_6_2, x_6_3, x_6_4, x_6_5, x_6_6, x_6_7, x_6_8, x_6_9),\n",
       "  \u001b[33mArray\u001b[39m(x_7_1, x_7_2, x_7_3, x_7_4, x_7_5, x_7_6, x_7_7, x_7_8, x_7_9),\n",
       "  \u001b[33mArray\u001b[39m(x_8_1, x_8_2, x_8_3, x_8_4, x_8_5, x_8_6, x_8_7, x_8_8, x_8_9),\n",
       "  \u001b[33mArray\u001b[39m(x_9_1, x_9_2, x_9_3, x_9_4, x_9_5, x_9_6, x_9_7, x_9_8, x_9_9)\n",
       ")"
      ]
     },
     "execution_count": 3,
     "metadata": {},
     "output_type": "execute_result"
    }
   ],
   "source": [
    "val X = Array.tabulate(9, 9)({case (i, j) =>  ctx.mkConst(\n",
    "                        ctx.mkSymbol(\"x_\" + (i + 1) + \"_\" + (j + 1)),\n",
    "                        ctx.getIntSort())})"
   ]
  },
  {
   "cell_type": "code",
   "execution_count": 4,
   "metadata": {},
   "outputs": [
    {
     "data": {
      "text/plain": [
       "\u001b[36mcells_c\u001b[39m: \u001b[32mArray\u001b[39m[\u001b[32mArray\u001b[39m[\u001b[32mBoolExpr\u001b[39m]] = \u001b[33mArray\u001b[39m(\n",
       "  \u001b[33mArray\u001b[39m(\n",
       "    (and (<= 1 x_1_1) (<= x_1_1 9)),\n",
       "    (and (<= 1 x_1_2) (<= x_1_2 9)),\n",
       "    (and (<= 1 x_1_3) (<= x_1_3 9)),\n",
       "    (and (<= 1 x_1_4) (<= x_1_4 9)),\n",
       "    (and (<= 1 x_1_5) (<= x_1_5 9)),\n",
       "    (and (<= 1 x_1_6) (<= x_1_6 9)),\n",
       "    (and (<= 1 x_1_7) (<= x_1_7 9)),\n",
       "    (and (<= 1 x_1_8) (<= x_1_8 9)),\n",
       "    (and (<= 1 x_1_9) (<= x_1_9 9))\n",
       "  ),\n",
       "  \u001b[33mArray\u001b[39m(\n",
       "    (and (<= 1 x_2_1) (<= x_2_1 9)),\n",
       "    (and (<= 1 x_2_2) (<= x_2_2 9)),\n",
       "    (and (<= 1 x_2_3) (<= x_2_3 9)),\n",
       "    (and (<= 1 x_2_4) (<= x_2_4 9)),\n",
       "    (and (<= 1 x_2_5) (<= x_2_5 9)),\n",
       "    (and (<= 1 x_2_6) (<= x_2_6 9)),\n",
       "    (and (<= 1 x_2_7) (<= x_2_7 9)),\n",
       "    (and (<= 1 x_2_8) (<= x_2_8 9)),\n",
       "    (and (<= 1 x_2_9) (<= x_2_9 9))\n",
       "  ),\n",
       "  \u001b[33mArray\u001b[39m(\n",
       "    (and (<= 1 x_3_1) (<= x_3_1 9)),\n",
       "    (and (<= 1 x_3_2) (<= x_3_2 9)),\n",
       "    (and (<= 1 x_3_3) (<= x_3_3 9)),\n",
       "    (and (<= 1 x_3_4) (<= x_3_4 9)),\n",
       "    (and (<= 1 x_3_5) (<= x_3_5 9)),\n",
       "    (and (<= 1 x_3_6) (<= x_3_6 9)),\n",
       "    (and (<= 1 x_3_7) (<= x_3_7 9)),\n",
       "    (and (<= 1 x_3_8) (<= x_3_8 9)),\n",
       "    (and (<= 1 x_3_9) (<= x_3_9 9))\n",
       "  ),\n",
       "  \u001b[33mArray\u001b[39m(\n",
       "    (and (<= 1 x_4_1) (<= x_4_1 9)),\n",
       "    (and (<= 1 x_4_2) (<= x_4_2 9)),\n",
       "    (and (<= 1 x_4_3) (<= x_4_3 9)),\n",
       "    (and (<= 1 x_4_4) (<= x_4_4 9)),\n",
       "..."
      ]
     },
     "execution_count": 4,
     "metadata": {},
     "output_type": "execute_result"
    }
   ],
   "source": [
    "val cells_c = Array.tabulate(9, 9){case (i, j) => ctx.mkAnd(ctx.mkLe(ctx.mkInt(1), X(i)(j)),\n",
    "                        ctx.mkLe(X(i)(j), ctx.mkInt(9)))}"
   ]
  },
  {
   "cell_type": "code",
   "execution_count": 5,
   "metadata": {},
   "outputs": [
    {
     "data": {
      "text/plain": [
       "\u001b[36mrows_c\u001b[39m: \u001b[32mArray\u001b[39m[\u001b[32mBoolExpr\u001b[39m] = \u001b[33mArray\u001b[39m(\n",
       "  (distinct x_1_1 x_1_2 x_1_3 x_1_4 x_1_5 x_1_6 x_1_7 x_1_8 x_1_9),\n",
       "  (distinct x_2_1 x_2_2 x_2_3 x_2_4 x_2_5 x_2_6 x_2_7 x_2_8 x_2_9),\n",
       "  (distinct x_3_1 x_3_2 x_3_3 x_3_4 x_3_5 x_3_6 x_3_7 x_3_8 x_3_9),\n",
       "  (distinct x_4_1 x_4_2 x_4_3 x_4_4 x_4_5 x_4_6 x_4_7 x_4_8 x_4_9),\n",
       "  (distinct x_5_1 x_5_2 x_5_3 x_5_4 x_5_5 x_5_6 x_5_7 x_5_8 x_5_9),\n",
       "  (distinct x_6_1 x_6_2 x_6_3 x_6_4 x_6_5 x_6_6 x_6_7 x_6_8 x_6_9),\n",
       "  (distinct x_7_1 x_7_2 x_7_3 x_7_4 x_7_5 x_7_6 x_7_7 x_7_8 x_7_9),\n",
       "  (distinct x_8_1 x_8_2 x_8_3 x_8_4 x_8_5 x_8_6 x_8_7 x_8_8 x_8_9),\n",
       "  (distinct x_9_1 x_9_2 x_9_3 x_9_4 x_9_5 x_9_6 x_9_7 x_9_8 x_9_9)\n",
       ")"
      ]
     },
     "execution_count": 5,
     "metadata": {},
     "output_type": "execute_result"
    }
   ],
   "source": [
    "val rows_c = X.map(row => ctx.mkDistinct(row: _*))"
   ]
  },
  {
   "cell_type": "code",
   "execution_count": 6,
   "metadata": {},
   "outputs": [
    {
     "data": {
      "text/plain": [
       "\u001b[36mcols_c\u001b[39m: \u001b[32mArray\u001b[39m[\u001b[32mBoolExpr\u001b[39m] = \u001b[33mArray\u001b[39m(\n",
       "  (distinct x_1_1 x_2_1 x_3_1 x_4_1 x_5_1 x_6_1 x_7_1 x_8_1 x_9_1),\n",
       "  (distinct x_1_2 x_2_2 x_3_2 x_4_2 x_5_2 x_6_2 x_7_2 x_8_2 x_9_2),\n",
       "  (distinct x_1_3 x_2_3 x_3_3 x_4_3 x_5_3 x_6_3 x_7_3 x_8_3 x_9_3),\n",
       "  (distinct x_1_4 x_2_4 x_3_4 x_4_4 x_5_4 x_6_4 x_7_4 x_8_4 x_9_4),\n",
       "  (distinct x_1_5 x_2_5 x_3_5 x_4_5 x_5_5 x_6_5 x_7_5 x_8_5 x_9_5),\n",
       "  (distinct x_1_6 x_2_6 x_3_6 x_4_6 x_5_6 x_6_6 x_7_6 x_8_6 x_9_6),\n",
       "  (distinct x_1_7 x_2_7 x_3_7 x_4_7 x_5_7 x_6_7 x_7_7 x_8_7 x_9_7),\n",
       "  (distinct x_1_8 x_2_8 x_3_8 x_4_8 x_5_8 x_6_8 x_7_8 x_8_8 x_9_8),\n",
       "  (distinct x_1_9 x_2_9 x_3_9 x_4_9 x_5_9 x_6_9 x_7_9 x_8_9 x_9_9)\n",
       ")"
      ]
     },
     "execution_count": 6,
     "metadata": {},
     "output_type": "execute_result"
    }
   ],
   "source": [
    "val cols_c = Array.tabulate(9){j =>\n",
    "       val col = Array.tabulate(9)(i => X(i)(j))\n",
    "       ctx.mkDistinct(col: _*)}"
   ]
  },
  {
   "cell_type": "code",
   "execution_count": 7,
   "metadata": {},
   "outputs": [
    {
     "data": {
      "text/plain": [
       "\u001b[36msq_c\u001b[39m: \u001b[32mArray\u001b[39m[\u001b[32mArray\u001b[39m[\u001b[32mBoolExpr\u001b[39m]] = \u001b[33mArray\u001b[39m(\n",
       "  \u001b[33mArray\u001b[39m(\n",
       "    (distinct x_1_1 x_1_2 x_1_3 x_2_1 x_2_2 x_2_3 x_3_1 x_3_2 x_3_3),\n",
       "    (distinct x_1_4 x_1_5 x_1_6 x_2_4 x_2_5 x_2_6 x_3_4 x_3_5 x_3_6),\n",
       "    (distinct x_1_7 x_1_8 x_1_9 x_2_7 x_2_8 x_2_9 x_3_7 x_3_8 x_3_9)\n",
       "  ),\n",
       "  \u001b[33mArray\u001b[39m(\n",
       "    (distinct x_4_1 x_4_2 x_4_3 x_5_1 x_5_2 x_5_3 x_6_1 x_6_2 x_6_3),\n",
       "    (distinct x_4_4 x_4_5 x_4_6 x_5_4 x_5_5 x_5_6 x_6_4 x_6_5 x_6_6),\n",
       "    (distinct x_4_7 x_4_8 x_4_9 x_5_7 x_5_8 x_5_9 x_6_7 x_6_8 x_6_9)\n",
       "  ),\n",
       "  \u001b[33mArray\u001b[39m(\n",
       "    (distinct x_7_1 x_7_2 x_7_3 x_8_1 x_8_2 x_8_3 x_9_1 x_9_2 x_9_3),\n",
       "    (distinct x_7_4 x_7_5 x_7_6 x_8_4 x_8_5 x_8_6 x_9_4 x_9_5 x_9_6),\n",
       "    (distinct x_7_7 x_7_8 x_7_9 x_8_7 x_8_8 x_8_9 x_9_7 x_9_8 x_9_9)\n",
       "  )\n",
       ")"
      ]
     },
     "execution_count": 7,
     "metadata": {},
     "output_type": "execute_result"
    }
   ],
   "source": [
    "val sq_c = Array.tabulate(3, 3){case (i0, j0) =>\n",
    "             val square = for{\n",
    "                 i <- 0 to 2\n",
    "                 j <- 0 to 2\n",
    "             } yield X((3 * i0) + i)((3 *j0) + j) \n",
    "        ctx.mkDistinct(square: _*)}"
   ]
  },
  {
   "cell_type": "code",
   "execution_count": 8,
   "metadata": {},
   "outputs": [
    {
     "data": {
      "text/plain": [
       "\u001b[36msudokuAll\u001b[39m: \u001b[32mArray\u001b[39m[\u001b[32mBoolExpr\u001b[39m] = \u001b[33mArray\u001b[39m(\n",
       "  (and (<= 1 x_1_1) (<= x_1_1 9)),\n",
       "  (and (<= 1 x_1_2) (<= x_1_2 9)),\n",
       "  (and (<= 1 x_1_3) (<= x_1_3 9)),\n",
       "  (and (<= 1 x_1_4) (<= x_1_4 9)),\n",
       "  (and (<= 1 x_1_5) (<= x_1_5 9)),\n",
       "  (and (<= 1 x_1_6) (<= x_1_6 9)),\n",
       "  (and (<= 1 x_1_7) (<= x_1_7 9)),\n",
       "  (and (<= 1 x_1_8) (<= x_1_8 9)),\n",
       "  (and (<= 1 x_1_9) (<= x_1_9 9)),\n",
       "  (and (<= 1 x_2_1) (<= x_2_1 9)),\n",
       "  (and (<= 1 x_2_2) (<= x_2_2 9)),\n",
       "  (and (<= 1 x_2_3) (<= x_2_3 9)),\n",
       "  (and (<= 1 x_2_4) (<= x_2_4 9)),\n",
       "  (and (<= 1 x_2_5) (<= x_2_5 9)),\n",
       "  (and (<= 1 x_2_6) (<= x_2_6 9)),\n",
       "  (and (<= 1 x_2_7) (<= x_2_7 9)),\n",
       "  (and (<= 1 x_2_8) (<= x_2_8 9)),\n",
       "  (and (<= 1 x_2_9) (<= x_2_9 9)),\n",
       "  (and (<= 1 x_3_1) (<= x_3_1 9)),\n",
       "  (and (<= 1 x_3_2) (<= x_3_2 9)),\n",
       "  (and (<= 1 x_3_3) (<= x_3_3 9)),\n",
       "  (and (<= 1 x_3_4) (<= x_3_4 9)),\n",
       "  (and (<= 1 x_3_5) (<= x_3_5 9)),\n",
       "  (and (<= 1 x_3_6) (<= x_3_6 9)),\n",
       "  (and (<= 1 x_3_7) (<= x_3_7 9)),\n",
       "  (and (<= 1 x_3_8) (<= x_3_8 9)),\n",
       "  (and (<= 1 x_3_9) (<= x_3_9 9)),\n",
       "  (and (<= 1 x_4_1) (<= x_4_1 9)),\n",
       "  (and (<= 1 x_4_2) (<= x_4_2 9)),\n",
       "  (and (<= 1 x_4_3) (<= x_4_3 9)),\n",
       "  (and (<= 1 x_4_4) (<= x_4_4 9)),\n",
       "  (and (<= 1 x_4_5) (<= x_4_5 9)),\n",
       "  (and (<= 1 x_4_6) (<= x_4_6 9)),\n",
       "  (and (<= 1 x_4_7) (<= x_4_7 9)),\n",
       "  (and (<= 1 x_4_8) (<= x_4_8 9)),\n",
       "  (and (<= 1 x_4_9) (<= x_4_9 9)),\n",
       "  (and (<= 1 x_5_1) (<= x_5_1 9)),\n",
       "  (and (<= 1 x_5_2) (<= x_5_2 9)),\n",
       "..."
      ]
     },
     "execution_count": 8,
     "metadata": {},
     "output_type": "execute_result"
    }
   ],
   "source": [
    "val sudokuAll  = cells_c.flatten ++ rows_c ++ cols_c ++ sq_c.flatten\n"
   ]
  },
  {
   "cell_type": "code",
   "execution_count": 9,
   "metadata": {},
   "outputs": [
    {
     "data": {
      "text/plain": [
       "\u001b[36msudoku_c\u001b[39m: \u001b[32mBoolExpr\u001b[39m = (and (<= 1 x_1_1)\n",
       "     (<= x_1_1 9)\n",
       "     (<= 1 x_1_2)\n",
       "     (<= x_1_2 9)\n",
       "     (<= 1 x_1_3)\n",
       "     (<= x_1_3 9)\n",
       "     (<= 1 x_1_4)\n",
       "     (<= x_1_4 9)\n",
       "     (<= 1 x_1_5)\n",
       "     (<= x_1_5 9)\n",
       "     (<= 1 x_1_6)\n",
       "     (<= x_1_6 9)\n",
       "     (<= 1 x_1_7)\n",
       "     (<= x_1_7 9)\n",
       "     (<= 1 x_1_8)\n",
       "     (<= x_1_8 9)\n",
       "     (<= 1 x_1_9)\n",
       "     (<= x_1_9 9)\n",
       "     (<= 1 x_2_1)\n",
       "     (<= x_2_1 9)\n",
       "     (<= 1 x_2_2)\n",
       "     (<= x_2_2 9)\n",
       "     (<= 1 x_2_3)\n",
       "     (<= x_2_3 9)\n",
       "     (<= 1 x_2_4)\n",
       "     (<= x_2_4 9)\n",
       "     (<= 1 x_2_5)\n",
       "     (<= x_2_5 9)\n",
       "     (<= 1 x_2_6)\n",
       "     (<= x_2_6 9)\n",
       "     (<= 1 x_2_7)\n",
       "     (<= x_2_7 9)\n",
       "     (<= 1 x_2_8)\n",
       "     (<= x_2_8 9)\n",
       "     (<= 1 x_2_9)\n",
       "     (<= x_2_9 9)\n",
       "     (<= 1 x_3_1)\n",
       "     (<= x_3_1 9)\n",
       "     (<= 1 x_3_2)\n",
       "..."
      ]
     },
     "execution_count": 9,
     "metadata": {},
     "output_type": "execute_result"
    }
   ],
   "source": [
    "val sudoku_c = ctx.mkAnd(sudokuAll : _*)"
   ]
  },
  {
   "cell_type": "markdown",
   "metadata": {},
   "source": [
    "Copy \n",
    "```\n",
    "int[][] instance = { { 0, 0, 0, 0, 9, 4, 0, 3, 0 },\n",
    "                { 0, 0, 0, 5, 1, 0, 0, 0, 7 }, { 0, 8, 9, 0, 0, 0, 0, 4, 0 },\n",
    "                { 0, 0, 0, 0, 0, 0, 2, 0, 8 }, { 0, 6, 0, 2, 0, 1, 0, 5, 0 },\n",
    "                { 1, 0, 2, 0, 0, 0, 0, 0, 0 }, { 0, 7, 0, 0, 0, 0, 5, 2, 0 },\n",
    "                { 9, 0, 0, 0, 6, 5, 0, 0, 0 }, { 0, 4, 0, 9, 7, 0, 0, 0, 0 } };\n",
    "```"
   ]
  },
  {
   "cell_type": "code",
   "execution_count": 10,
   "metadata": {},
   "outputs": [
    {
     "data": {
      "text/plain": [
       "\u001b[36minstance\u001b[39m: \u001b[32mArray\u001b[39m[\u001b[32mArray\u001b[39m[\u001b[32mInt\u001b[39m]] = \u001b[33mArray\u001b[39m(\n",
       "  \u001b[33mArray\u001b[39m(\u001b[32m0\u001b[39m, \u001b[32m0\u001b[39m, \u001b[32m0\u001b[39m, \u001b[32m0\u001b[39m, \u001b[32m9\u001b[39m, \u001b[32m4\u001b[39m, \u001b[32m0\u001b[39m, \u001b[32m3\u001b[39m, \u001b[32m0\u001b[39m),\n",
       "  \u001b[33mArray\u001b[39m(\u001b[32m0\u001b[39m, \u001b[32m0\u001b[39m, \u001b[32m0\u001b[39m, \u001b[32m5\u001b[39m, \u001b[32m1\u001b[39m, \u001b[32m0\u001b[39m, \u001b[32m0\u001b[39m, \u001b[32m0\u001b[39m, \u001b[32m7\u001b[39m),\n",
       "  \u001b[33mArray\u001b[39m(\u001b[32m0\u001b[39m, \u001b[32m8\u001b[39m, \u001b[32m9\u001b[39m, \u001b[32m0\u001b[39m, \u001b[32m0\u001b[39m, \u001b[32m0\u001b[39m, \u001b[32m0\u001b[39m, \u001b[32m4\u001b[39m, \u001b[32m0\u001b[39m),\n",
       "  \u001b[33mArray\u001b[39m(\u001b[32m0\u001b[39m, \u001b[32m0\u001b[39m, \u001b[32m0\u001b[39m, \u001b[32m0\u001b[39m, \u001b[32m0\u001b[39m, \u001b[32m0\u001b[39m, \u001b[32m2\u001b[39m, \u001b[32m0\u001b[39m, \u001b[32m8\u001b[39m),\n",
       "  \u001b[33mArray\u001b[39m(\u001b[32m0\u001b[39m, \u001b[32m6\u001b[39m, \u001b[32m0\u001b[39m, \u001b[32m2\u001b[39m, \u001b[32m0\u001b[39m, \u001b[32m1\u001b[39m, \u001b[32m0\u001b[39m, \u001b[32m5\u001b[39m, \u001b[32m0\u001b[39m),\n",
       "  \u001b[33mArray\u001b[39m(\u001b[32m1\u001b[39m, \u001b[32m0\u001b[39m, \u001b[32m2\u001b[39m, \u001b[32m0\u001b[39m, \u001b[32m0\u001b[39m, \u001b[32m0\u001b[39m, \u001b[32m0\u001b[39m, \u001b[32m0\u001b[39m, \u001b[32m0\u001b[39m),\n",
       "  \u001b[33mArray\u001b[39m(\u001b[32m0\u001b[39m, \u001b[32m7\u001b[39m, \u001b[32m0\u001b[39m, \u001b[32m0\u001b[39m, \u001b[32m0\u001b[39m, \u001b[32m0\u001b[39m, \u001b[32m5\u001b[39m, \u001b[32m2\u001b[39m, \u001b[32m0\u001b[39m),\n",
       "  \u001b[33mArray\u001b[39m(\u001b[32m9\u001b[39m, \u001b[32m0\u001b[39m, \u001b[32m0\u001b[39m, \u001b[32m0\u001b[39m, \u001b[32m6\u001b[39m, \u001b[32m5\u001b[39m, \u001b[32m0\u001b[39m, \u001b[32m0\u001b[39m, \u001b[32m0\u001b[39m),\n",
       "  \u001b[33mArray\u001b[39m(\u001b[32m0\u001b[39m, \u001b[32m4\u001b[39m, \u001b[32m0\u001b[39m, \u001b[32m9\u001b[39m, \u001b[32m7\u001b[39m, \u001b[32m0\u001b[39m, \u001b[32m0\u001b[39m, \u001b[32m0\u001b[39m, \u001b[32m0\u001b[39m)\n",
       ")"
      ]
     },
     "execution_count": 10,
     "metadata": {},
     "output_type": "execute_result"
    }
   ],
   "source": [
    "val instance = Array(Array(0, 0, 0, 0, 9, 4, 0, 3, 0 ), \n",
    "                     Array(0, 0, 0, 5, 1, 0, 0, 0, 7), Array(0, 8, 9, 0, 0, 0, 0, 4, 0),\n",
    "                     Array(0, 0, 0, 0, 0, 0, 2, 0, 8), Array(0, 6, 0, 2, 0, 1, 0, 5, 0),\n",
    "                     Array(1, 0, 2, 0, 0, 0, 0, 0, 0), Array(0, 7, 0, 0, 0, 0, 5, 2, 0 ),\n",
    "                     Array(9, 0, 0, 0, 6, 5, 0, 0, 0), Array(0, 4, 0, 9, 7, 0, 0, 0, 0 )\n",
    ")"
   ]
  },
  {
   "cell_type": "code",
   "execution_count": 11,
   "metadata": {},
   "outputs": [
    {
     "data": {
      "text/plain": [
       "\u001b[36mequalities\u001b[39m: \u001b[32mIndexedSeq\u001b[39m[\u001b[32mBoolExpr\u001b[39m] = \u001b[33mVector\u001b[39m(\n",
       "  (= x_1_5 9),\n",
       "  (= x_1_6 4),\n",
       "  (= x_1_8 3),\n",
       "  (= x_2_4 5),\n",
       "  (= x_2_5 1),\n",
       "  (= x_2_9 7),\n",
       "  (= x_3_2 8),\n",
       "  (= x_3_3 9),\n",
       "  (= x_3_8 4),\n",
       "  (= x_4_7 2),\n",
       "  (= x_4_9 8),\n",
       "  (= x_5_2 6),\n",
       "  (= x_5_4 2),\n",
       "  (= x_5_6 1),\n",
       "  (= x_5_8 5),\n",
       "  (= x_6_1 1),\n",
       "  (= x_6_3 2),\n",
       "  (= x_7_2 7),\n",
       "  (= x_7_7 5),\n",
       "  (= x_7_8 2),\n",
       "  (= x_8_1 9),\n",
       "  (= x_8_5 6),\n",
       "  (= x_8_6 5),\n",
       "  (= x_9_2 4),\n",
       "  (= x_9_4 9),\n",
       "  (= x_9_5 7)\n",
       ")"
      ]
     },
     "execution_count": 11,
     "metadata": {},
     "output_type": "execute_result"
    }
   ],
   "source": [
    "val equalities = for{\n",
    "    i <- 0 until 9\n",
    "    j <- 0 until 9\n",
    "    if instance(i)(j) != 0\n",
    "} yield ctx.mkEq(X(i)(j), ctx.mkInt(instance(i)(j)))"
   ]
  },
  {
   "cell_type": "code",
   "execution_count": 12,
   "metadata": {},
   "outputs": [
    {
     "data": {
      "text/plain": [
       "\u001b[36minstance_c\u001b[39m: \u001b[32mBoolExpr\u001b[39m = (and (= x_1_5 9)\n",
       "     (= x_1_6 4)\n",
       "     (= x_1_8 3)\n",
       "     (= x_2_4 5)\n",
       "     (= x_2_5 1)\n",
       "     (= x_2_9 7)\n",
       "     (= x_3_2 8)\n",
       "     (= x_3_3 9)\n",
       "     (= x_3_8 4)\n",
       "     (= x_4_7 2)\n",
       "     (= x_4_9 8)\n",
       "     (= x_5_2 6)\n",
       "     (= x_5_4 2)\n",
       "     (= x_5_6 1)\n",
       "     (= x_5_8 5)\n",
       "     (= x_6_1 1)\n",
       "     (= x_6_3 2)\n",
       "     (= x_7_2 7)\n",
       "     (= x_7_7 5)\n",
       "     (= x_7_8 2)\n",
       "     (= x_8_1 9)\n",
       "     (= x_8_5 6)\n",
       "     (= x_8_6 5)\n",
       "     (= x_9_2 4)\n",
       "     (= x_9_4 9)\n",
       "     (= x_9_5 7))"
      ]
     },
     "execution_count": 12,
     "metadata": {},
     "output_type": "execute_result"
    }
   ],
   "source": [
    "val instance_c = ctx.mkAnd(equalities : _*)"
   ]
  },
  {
   "cell_type": "code",
   "execution_count": 13,
   "metadata": {},
   "outputs": [
    {
     "data": {
      "text/plain": [
       "\u001b[36ms\u001b[39m: \u001b[32mSolver\u001b[39m = "
      ]
     },
     "execution_count": 13,
     "metadata": {},
     "output_type": "execute_result"
    }
   ],
   "source": [
    "val s = ctx.mkSolver()"
   ]
  },
  {
   "cell_type": "code",
   "execution_count": 14,
   "metadata": {},
   "outputs": [],
   "source": [
    "s.add(sudoku_c)\n",
    "s.add(instance_c)"
   ]
  },
  {
   "cell_type": "code",
   "execution_count": 15,
   "metadata": {},
   "outputs": [
    {
     "data": {
      "text/plain": [
       "\u001b[36mres14\u001b[39m: \u001b[32mStatus\u001b[39m = SATISFIABLE"
      ]
     },
     "execution_count": 15,
     "metadata": {},
     "output_type": "execute_result"
    }
   ],
   "source": [
    "s.check()"
   ]
  },
  {
   "cell_type": "code",
   "execution_count": 16,
   "metadata": {},
   "outputs": [
    {
     "data": {
      "text/plain": [
       "\u001b[36mm\u001b[39m: \u001b[32mModel\u001b[39m = (define-fun x_2_2 () Int\n",
       "  3)\n",
       "(define-fun x_1_1 () Int\n",
       "  7)\n",
       "(define-fun x_3_1 () Int\n",
       "  6)\n",
       "(define-fun x_7_5 () Int\n",
       "  4)\n",
       "(define-fun x_8_7 () Int\n",
       "  4)\n",
       "(define-fun x_1_3 () Int\n",
       "  5)\n",
       "(define-fun x_5_5 () Int\n",
       "  3)\n",
       "(define-fun x_1_2 () Int\n",
       "  1)\n",
       "(define-fun x_1_9 () Int\n",
       "  2)\n",
       "(define-fun x_5_9 () Int\n",
       "  4)\n",
       "(define-fun x_3_5 () Int\n",
       "  2)\n",
       "(define-fun x_6_4 () Int\n",
       "  4)\n",
       "(define-fun x_2_6 () Int\n",
       "  6)\n",
       "(define-fun x_8_4 () Int\n",
       "  3)\n",
       "(define-fun x_6_5 () Int\n",
       "  8)\n",
       "(define-fun x_8_2 () Int\n",
       "  2)\n",
       "(define-fun x_8_9 () Int\n",
       "  1)\n",
       "(define-fun x_1_4 () Int\n",
       "  8)\n",
       "(define-fun x_7_4 () Int\n",
       "  1)\n",
       "(define-fun x_6_6 () Int\n",
       "..."
      ]
     },
     "execution_count": 16,
     "metadata": {},
     "output_type": "execute_result"
    }
   ],
   "source": [
    "val m = s.getModel()"
   ]
  },
  {
   "cell_type": "code",
   "execution_count": 17,
   "metadata": {},
   "outputs": [
    {
     "data": {
      "text/plain": [
       "\u001b[36msolution\u001b[39m: \u001b[32mVector\u001b[39m[\u001b[32mVector\u001b[39m[\u001b[32mExpr\u001b[39m[\u001b[32mIntSort\u001b[39m]]] = \u001b[33mVector\u001b[39m(\n",
       "  \u001b[33mVector\u001b[39m(7, 1, 5, 8, 9, 4, 6, 3, 2),\n",
       "  \u001b[33mVector\u001b[39m(2, 3, 4, 5, 1, 6, 8, 9, 7),\n",
       "  \u001b[33mVector\u001b[39m(6, 8, 9, 7, 2, 3, 1, 4, 5),\n",
       "  \u001b[33mVector\u001b[39m(4, 9, 3, 6, 5, 7, 2, 1, 8),\n",
       "  \u001b[33mVector\u001b[39m(8, 6, 7, 2, 3, 1, 9, 5, 4),\n",
       "  \u001b[33mVector\u001b[39m(1, 5, 2, 4, 8, 9, 7, 6, 3),\n",
       "  \u001b[33mVector\u001b[39m(3, 7, 6, 1, 4, 8, 5, 2, 9),\n",
       "  \u001b[33mVector\u001b[39m(9, 2, 8, 3, 6, 5, 4, 7, 1),\n",
       "  \u001b[33mVector\u001b[39m(5, 4, 1, 9, 7, 2, 3, 8, 6)\n",
       ")"
      ]
     },
     "execution_count": 17,
     "metadata": {},
     "output_type": "execute_result"
    }
   ],
   "source": [
    "val solution = Vector.tabulate(9, 9){case (i, j) => m.evaluate(X(i)(j), false)}"
   ]
  },
  {
   "cell_type": "code",
   "execution_count": null,
   "metadata": {},
   "outputs": [],
   "source": []
  }
 ],
 "metadata": {
  "kernelspec": {
   "display_name": "scala-2.13",
   "language": "scala",
   "name": "scala-2.13"
  },
  "language_info": {
   "codemirror_mode": "text/x-scala",
   "file_extension": ".scala",
   "mimetype": "text/x-scala",
   "name": "scala",
   "nbconvert_exporter": "script",
   "version": "2.13.1"
  }
 },
 "nbformat": 4,
 "nbformat_minor": 4
}
