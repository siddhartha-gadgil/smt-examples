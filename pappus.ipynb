{
 "cells": [
  {
   "cell_type": "markdown",
   "metadata": {},
   "source": [
    "# Pappus hexagon theorem\n",
    "\n",
    "This is an attempt to use Z3 to prove the _Pappus Hexagon theorem_ from Euclidean geometry. Our first step is to define collinearity."
   ]
  },
  {
   "cell_type": "code",
   "execution_count": null,
   "metadata": {},
   "outputs": [],
   "source": [
    "def collinear(ax, ay, bx, by, cx, cy):\n",
    "    return (cx - ax) * (by - ay) == (bx - ax) * (cy - ay)"
   ]
  },
  {
   "cell_type": "code",
   "execution_count": 2,
   "metadata": {},
   "outputs": [],
   "source": [
    "from z3 import *"
   ]
  },
  {
   "cell_type": "markdown",
   "metadata": {},
   "source": [
    "We define a bunch of points."
   ]
  },
  {
   "cell_type": "code",
   "execution_count": 3,
   "metadata": {},
   "outputs": [],
   "source": [
    "ax = Real('ax')\n",
    "bx = Real('bx')\n",
    "cx = Real('cx')\n",
    "Ax = Real('Ax')\n",
    "Bx = Real('Bx')\n",
    "Cx = Real('Cx')\n",
    "Px = Real('Px')\n",
    "Qx = Real('Qx')\n",
    "Rx = Real('Rx')\n",
    "ay = Real('ay')\n",
    "by = Real('by')\n",
    "cy = Real('cy')\n",
    "Ay = Real('Ay')\n",
    "By = Real('By')\n",
    "Cy = Real('Cy')\n",
    "Py = Real('Py')\n",
    "Qy = Real('Qy')\n",
    "Ry = Real('Ry')"
   ]
  },
  {
   "cell_type": "markdown",
   "metadata": {},
   "source": [
    "We setup a solver to add conditions."
   ]
  },
  {
   "cell_type": "code",
   "execution_count": 4,
   "metadata": {},
   "outputs": [],
   "source": [
    "s = Solver()"
   ]
  },
  {
   "cell_type": "markdown",
   "metadata": {},
   "source": [
    "First that $a$, $b$, $c$ are collinear, as are $A$, $B$, $C$."
   ]
  },
  {
   "cell_type": "code",
   "execution_count": 5,
   "metadata": {},
   "outputs": [],
   "source": [
    "s.add(collinear(ax, ay, bx, by, cx, cy))\n",
    "s.add(collinear(Ax, Ay, Bx, By, Cx, Cy))"
   ]
  },
  {
   "cell_type": "markdown",
   "metadata": {},
   "source": [
    "Next, to say that $P$, $Q$ and $R$ are appropriate intersection points, we add collinearity conditions."
   ]
  },
  {
   "cell_type": "code",
   "execution_count": 6,
   "metadata": {},
   "outputs": [],
   "source": [
    "s.add(collinear(ax, ay, Px, Py, Bx, By))\n",
    "s.add(collinear(Ax, Ay, Px, Py, bx, by))"
   ]
  },
  {
   "cell_type": "code",
   "execution_count": 7,
   "metadata": {},
   "outputs": [],
   "source": [
    "s.add(collinear(ax, ay, Qx, Qy, Cx, Cy))\n",
    "s.add(collinear(Ax, Ay, Qx, Qy, cx, cy))"
   ]
  },
  {
   "cell_type": "code",
   "execution_count": 8,
   "metadata": {},
   "outputs": [],
   "source": [
    "s.add(collinear(bx, by, Rx, Ry, Cx, Cy))\n",
    "s.add(collinear(Bx, By, Rx, Ry, cx, cy))"
   ]
  },
  {
   "cell_type": "markdown",
   "metadata": {},
   "source": [
    "Our sanity check, that so far we can have points with all these conditions."
   ]
  },
  {
   "cell_type": "code",
   "execution_count": 9,
   "metadata": {},
   "outputs": [
    {
     "data": {
      "text/html": [
       "<b>sat</b>"
      ],
      "text/plain": [
       "sat"
      ]
     },
     "execution_count": 9,
     "metadata": {},
     "output_type": "execute_result"
    }
   ],
   "source": [
    "s.check()"
   ]
  },
  {
   "cell_type": "markdown",
   "metadata": {},
   "source": [
    "We now add a contradiction by assuming $P$, $Q$ and $R$ are not collinear."
   ]
  },
  {
   "cell_type": "code",
   "execution_count": 10,
   "metadata": {},
   "outputs": [],
   "source": [
    "s.add(Not(collinear(Px, Py, Qx, Qy, Rx, Ry)))"
   ]
  },
  {
   "cell_type": "code",
   "execution_count": 11,
   "metadata": {},
   "outputs": [
    {
     "data": {
      "text/html": [
       "<b>sat</b>"
      ],
      "text/plain": [
       "sat"
      ]
     },
     "execution_count": 11,
     "metadata": {},
     "output_type": "execute_result"
    }
   ],
   "source": [
    "s.check()"
   ]
  },
  {
   "cell_type": "markdown",
   "metadata": {},
   "source": [
    "The above error was because we did not specify that points were distinct."
   ]
  },
  {
   "cell_type": "code",
   "execution_count": 25,
   "metadata": {},
   "outputs": [],
   "source": [
    "def distinct(x1, y1, x2, y2):\n",
    "    return Or(x1 != x2, y1 != y2)"
   ]
  },
  {
   "cell_type": "code",
   "execution_count": 26,
   "metadata": {},
   "outputs": [],
   "source": [
    "xs = [ax, bx, cx, Ax, Bx, Cx]\n",
    "ys = [ay, by, cy, Ay, By, Cy]"
   ]
  },
  {
   "cell_type": "code",
   "execution_count": 30,
   "metadata": {},
   "outputs": [],
   "source": [
    "for i in range(0, 6):\n",
    "    for j in range(0, 6):\n",
    "        if i != j:\n",
    "            s.add(distinct(xs[i], ys[i], xs[j], ys[j]))"
   ]
  },
  {
   "cell_type": "code",
   "execution_count": null,
   "metadata": {},
   "outputs": [],
   "source": [
    "s.check()"
   ]
  },
  {
   "cell_type": "code",
   "execution_count": null,
   "metadata": {},
   "outputs": [],
   "source": []
  }
 ],
 "metadata": {
  "kernelspec": {
   "display_name": "Python 3",
   "language": "python",
   "name": "python3"
  },
  "language_info": {
   "codemirror_mode": {
    "name": "ipython",
    "version": 3
   },
   "file_extension": ".py",
   "mimetype": "text/x-python",
   "name": "python",
   "nbconvert_exporter": "python",
   "pygments_lexer": "ipython3",
   "version": "3.7.6"
  }
 },
 "nbformat": 4,
 "nbformat_minor": 4
}
